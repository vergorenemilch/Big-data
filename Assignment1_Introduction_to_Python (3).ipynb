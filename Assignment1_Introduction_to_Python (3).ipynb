{
  "nbformat": 4,
  "nbformat_minor": 0,
  "metadata": {
    "colab": {
      "provenance": []
    },
    "kernelspec": {
      "name": "python3",
      "display_name": "Python 3"
    },
    "language_info": {
      "name": "python"
    }
  },
  "cells": [
    {
      "cell_type": "markdown",
      "source": [
        "# **Assignment 1: Introduction to Python**\n",
        "\n",
        "**Due Date: Wednesday, January 25, 11:59 PM.** \n",
        "\n",
        "**Objective:** In this assignment, you will write simple codes to get familiar with the python syntax and programming.\n",
        "\n",
        "**How to Submit:** Please upload your assigment as a python notebook (.ipynb file) to your own GitHub repository (you can create a new one for this class) and also upload a copy to the D2L submission folder 'Assignment 1'. Include the link to your GitHub repository here:\n",
        "\n",
        "\n",
        "---\n",
        "\n",
        "\n",
        "\n",
        "**Your GitHub Repository:** \n",
        "\n",
        "\n",
        "\n"
      ],
      "metadata": {
        "id": "6VKhzjedF6lM"
      }
    },
    {
      "cell_type": "markdown",
      "source": [
        "\n",
        "\n",
        "---\n",
        "\n"
      ],
      "metadata": {
        "id": "4Z7IQBju-xXH"
      }
    },
    {
      "cell_type": "markdown",
      "source": [
        "**1. Write a Python Program to calculate the area of a triangle using Heron's formula (see below). Use the input() function to get the user input for values of a, b, and c.**"
      ],
      "metadata": {
        "id": "qLsOKqbq-8-3"
      }
    },
    {
      "cell_type": "markdown",
      "source": [
        "\n",
        "\n",
        "\n",
        "![area-of-triangle-1639462075.png](data:image/png;base64,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)\n",
        "\n",
        "\n",
        "\n"
      ],
      "metadata": {
        "id": "m1qkamgsF_CC"
      }
    },
    {
      "cell_type": "code",
      "source": [
        "#write the code here#\n",
        "\n",
        "import numpy as np\n",
        "\n",
        "print('Please provide input: a,b and c')\n",
        "\n",
        "a = int(input())\n",
        "b = int(input())\n",
        "c = int(input())\n",
        "\n",
        "s=(a+b+c)/2\n",
        "AoT= np.sqrt(s*(s-a)*(s-b)*(s-c))\n",
        "print(AoT)"
      ],
      "metadata": {
        "id": "YqrJs2OxGO5D",
        "colab": {
          "base_uri": "https://localhost:8080/"
        },
        "outputId": "78329db4-802c-426e-c459-995cb5bfb02c"
      },
      "execution_count": null,
      "outputs": [
        {
          "output_type": "stream",
          "name": "stdout",
          "text": [
            "Please provide input: a,b and c\n",
            "10\n",
            "15\n",
            "20\n",
            "72.61843774138907\n"
          ]
        }
      ]
    },
    {
      "cell_type": "markdown",
      "source": [
        "\n",
        "**2. Write a code to generate a random number.**\n",
        "\n",
        "`Hint`\n",
        "\n",
        "```\n",
        "To generate random number in Python, randint() function is used. This function is defined in random module.\n",
        "```"
      ],
      "metadata": {
        "id": "L8Gi5ZCJGOFc"
      }
    },
    {
      "cell_type": "code",
      "source": [
        "#write the code here#\n",
        "import random\n",
        "\n",
        "rand = random.randint(1,1000)\n",
        "print(rand)"
      ],
      "metadata": {
        "id": "BbQnWDrsHZqr",
        "colab": {
          "base_uri": "https://localhost:8080/"
        },
        "outputId": "0cec5061-ec65-4abf-b44d-f5eb101067d5"
      },
      "execution_count": null,
      "outputs": [
        {
          "output_type": "stream",
          "name": "stdout",
          "text": [
            "621\n"
          ]
        }
      ]
    },
    {
      "cell_type": "markdown",
      "source": [
        "**3. Write a program to check if a number is positive, negative or 0.**\n",
        "\n",
        "`Hint`\n",
        "\n",
        "```\n",
        "This problem is solved using if...elif...else and nested if...else statement.\n",
        "```\n",
        "\n",
        "\n"
      ],
      "metadata": {
        "id": "CbqEBI7BH-Le"
      }
    },
    {
      "cell_type": "code",
      "source": [
        "#write the code here#\n",
        "\n",
        "print('Please provide input: any number')\n",
        "\n",
        "a = int(input())\n",
        "\n",
        "if a>0:\n",
        "  print('Number is positive')\n",
        "elif a==0:\n",
        "  print('Number is 0')\n",
        "else:\n",
        "  print('Number is negative')\n",
        "\n"
      ],
      "metadata": {
        "id": "NXHyNRFXHfCR",
        "colab": {
          "base_uri": "https://localhost:8080/"
        },
        "outputId": "8cb91556-518c-42c7-c372-b32a7c6f3d90"
      },
      "execution_count": null,
      "outputs": [
        {
          "output_type": "stream",
          "name": "stdout",
          "text": [
            "Please provide input: any number\n",
            "0\n",
            "Number is 0\n"
          ]
        }
      ]
    },
    {
      "cell_type": "markdown",
      "source": [
        "**4. Write a program to return the index and value of each item in a list using a 'for' loop.**\n",
        "\n",
        "`Hint`\n",
        "\n",
        "\n",
        "```\n",
        "For example if the list is [21, 44, 35, 11], the output should be be\n",
        "0 21\n",
        "1 44\n",
        "2 35\n",
        "3 11\n",
        "\n",
        "```\n",
        "\n"
      ],
      "metadata": {
        "id": "3Ho7AEUqI0MB"
      }
    },
    {
      "cell_type": "code",
      "source": [
        "#write the code here#\n",
        "\n",
        "list = range(13,33,3)\n",
        "\n",
        "for i, num in enumerate(list): \n",
        "    print(i, num)\n"
      ],
      "metadata": {
        "id": "_Kdxo-m8HfFR",
        "colab": {
          "base_uri": "https://localhost:8080/"
        },
        "outputId": "38564d5e-0ebc-4583-ca1f-91b146a75d74"
      },
      "execution_count": null,
      "outputs": [
        {
          "output_type": "stream",
          "name": "stdout",
          "text": [
            "0 13\n",
            "1 16\n",
            "2 19\n",
            "3 22\n",
            "4 25\n",
            "5 28\n",
            "6 31\n"
          ]
        }
      ]
    },
    {
      "cell_type": "markdown",
      "source": [
        "**5. Write a Python Program to check whether an integer is a prime number or not.**\n",
        "\n",
        "`Hint`\n",
        "\n",
        "```\n",
        "Prime numbers are numbers that have only 2 factors: 1 and themselves. For example, the first 5 prime numbers are 2, 3, 5, 7\n",
        "```\n",
        "\n"
      ],
      "metadata": {
        "id": "RO3NM2idJ55B"
      }
    },
    {
      "cell_type": "code",
      "source": [
        "#write the code here#\n",
        "\n",
        "\n",
        "num = int(input(\"Please provide input: any number: \"))\n",
        "\n",
        "if num > 1:\n",
        "   for i in range(2,num):\n",
        "       if (num % i) == 0:\n",
        "           print(num,\"is not a prime number\")\n",
        "           break\n",
        "   else:\n",
        "       print(num,\"is a prime number\")\n",
        "       \n",
        "\n",
        "else:\n",
        "   print(num,\"is not a prime number\")"
      ],
      "metadata": {
        "id": "2DRbcZaJHfIT",
        "colab": {
          "base_uri": "https://localhost:8080/"
        },
        "outputId": "05e9395f-cec5-4ec9-ff9e-5b3677d628f2"
      },
      "execution_count": 3,
      "outputs": [
        {
          "output_type": "stream",
          "name": "stdout",
          "text": [
            "Please provide input: any number: 0\n",
            "0 is not a prime number\n"
          ]
        }
      ]
    },
    {
      "cell_type": "markdown",
      "source": [
        "**6. Write a Python Program to sort words in a sentence in alphabetic order**\n",
        "\n",
        "`Hint`\n",
        "\n",
        "```\n",
        "For this program, you can make use of String Methods here:\n",
        "https://www.w3schools.com/python/python_strings_methods.asp\n",
        "```\n",
        "\n"
      ],
      "metadata": {
        "id": "dkzTR6aYMQGJ"
      }
    },
    {
      "cell_type": "code",
      "source": [
        "#write the code here#\n",
        "\n",
        "string ='Auch wenn man annimmt dass viele Migaranten innerhalb eines bestimmten Zeitrahmens straffällig werden zeigen jüngst erworbene Polizeistatistiken doch ein anderes Bild'\n",
        "seperated = string.split()\n",
        "\n",
        "LST = []\n",
        "for word in seperated:\n",
        "  LST.append(word.lower())\n",
        "  LST.sort()\n",
        "\n",
        "for word in LST:\n",
        "  print(word)\n",
        "\n",
        "\n",
        " "
      ],
      "metadata": {
        "id": "kHKeQtEoMjoW",
        "colab": {
          "base_uri": "https://localhost:8080/"
        },
        "outputId": "76502a04-08fc-49e7-8957-2b638bbb0631"
      },
      "execution_count": null,
      "outputs": [
        {
          "output_type": "stream",
          "name": "stdout",
          "text": [
            "anderes\n",
            "annimmt\n",
            "auch\n",
            "bestimmten\n",
            "bild\n",
            "dass\n",
            "doch\n",
            "ein\n",
            "eines\n",
            "erworbene\n",
            "innerhalb\n",
            "jüngst\n",
            "man\n",
            "migaranten\n",
            "polizeistatistiken\n",
            "straffällig\n",
            "viele\n",
            "wenn\n",
            "werden\n",
            "zeigen\n",
            "zeitrahmens\n"
          ]
        }
      ]
    },
    {
      "cell_type": "markdown",
      "source": [
        "**7. Write a Python program to make 4 slices to the list ([1, 2, 3, 4, 5]).**\n",
        "**The 5 outputs should be:**\n",
        "```\n",
        "[1, 2, 3, 4, 5] --> (the first output is the list with all elements)\n",
        "[3, 4, 5]\n",
        "[1, 2]\n",
        "[3, 4]\n",
        "[1, 3, 5]\n",
        "```\n",
        "\n",
        "\n",
        "\n",
        "`Hint`\n",
        "\n",
        "```\n",
        "The format for list slicing is [start:stop:step].\n",
        "\n",
        "start is the index of the list where slicing starts.\n",
        "stop is the index of the list where slicing ends.\n",
        "step allows you to select nth item within the range start to stop.\n",
        "```\n",
        "\n"
      ],
      "metadata": {
        "id": "FdlXXPgsNXYa"
      }
    },
    {
      "cell_type": "code",
      "source": [
        "#write the code here#\n",
        "\n",
        "list = [1, 2, 3, 4, 5] \n",
        "  \n",
        "slice1 = list[:] \n",
        "slice2 = list[2:] \n",
        "slice3 = list[:2] \n",
        "slice4 = list[1:3] \n",
        "slice5 = list[::2]  \n",
        "  \n",
        "print(slice1) \n",
        "print(slice2) \n",
        "print(slice3) \n",
        "print(slice4) \n",
        "print(slice5)"
      ],
      "metadata": {
        "id": "prPkYV4nNfyb",
        "colab": {
          "base_uri": "https://localhost:8080/"
        },
        "outputId": "362f99f4-e513-4012-84a1-7dfa4280b7e1"
      },
      "execution_count": 2,
      "outputs": [
        {
          "output_type": "stream",
          "name": "stdout",
          "text": [
            "[1, 2, 3, 4, 5]\n",
            "[3, 4, 5]\n",
            "[1, 2]\n",
            "[2, 3]\n",
            "[1, 3, 5]\n"
          ]
        }
      ]
    },
    {
      "cell_type": "markdown",
      "source": [
        "**8. Write a Python Program to concatenate two lists by (1) declaring a function that takes the two lists as parameters and returns the concatenation result, and (2) calls the function using the lists below:**\n",
        "```\n",
        "list_1 = [1, 'a']\n",
        "list_2 = [3, 4, 5]\n",
        "```\n",
        "\n",
        "\n",
        "\n",
        "```\n",
        "Hint: output will be [1, 'a', 3, 4, 5]\n",
        "\n",
        "```\n",
        "\n",
        "\n",
        "\n",
        "\n"
      ],
      "metadata": {
        "id": "_D-xmj3fNgiB"
      }
    },
    {
      "cell_type": "code",
      "source": [
        "#write the code here#\n",
        "\n",
        "list_1 = [1, 'a'] \n",
        "list_2 = [3, 4, 5] \n",
        "  \n",
        "def concat(list1, list2): \n",
        "    return list1 + list2 \n",
        "   \n",
        "result = concat(list_1, list_2) \n",
        "  \n",
        "print(result)"
      ],
      "metadata": {
        "id": "w6uCgtoyNgqx",
        "colab": {
          "base_uri": "https://localhost:8080/"
        },
        "outputId": "d594c1e4-5df1-420b-8605-50ade987b008"
      },
      "execution_count": 1,
      "outputs": [
        {
          "output_type": "stream",
          "name": "stdout",
          "text": [
            "[1, 'a', 3, 4, 5]\n"
          ]
        }
      ]
    },
    {
      "cell_type": "markdown",
      "source": [
        "**9. Using python, create a file with two numbers in it. Write a Python Program to (1) read the 2 numbers from the file, (2) add and subtract the numbers, and (3) write the results in another file called 'result.txt' (include this file with your submission).**\n"
      ],
      "metadata": {
        "id": "9eNfYNgMxwtO"
      }
    },
    {
      "cell_type": "code",
      "source": [
        "#write the code here#\n",
        "\n",
        "\n",
        "f = open('input.txt', 'w') \n",
        "f.write(str(34))\n",
        "f.write(' ')\n",
        "f.write(str(24))\n",
        " \n",
        "f.close() \n",
        "\n",
        "num = open('input.txt', 'r')\n",
        "numread = num.read()\n",
        "\n",
        "numsplit = numread.split( )\n",
        "\n",
        "\n",
        "sum = int(numsplit[0]) + int(numsplit[1])\n",
        "difference = int(numsplit[0]) - int(numsplit[1]) \n",
        "\n",
        "\n",
        "f = open('result.txt', 'w') \n",
        "\n",
        "f.write(\"Sum: \" + str(sum) + \"\\n\") \n",
        "f.write(\"Difference: \" + str(difference))"
      ],
      "metadata": {
        "id": "-SCzL0XPyGOD",
        "colab": {
          "base_uri": "https://localhost:8080/"
        },
        "outputId": "7e357e65-fcdc-46c8-fcc7-0d17f696c18e"
      },
      "execution_count": null,
      "outputs": [
        {
          "output_type": "execute_result",
          "data": {
            "text/plain": [
              "14"
            ]
          },
          "metadata": {},
          "execution_count": 34
        }
      ]
    },
    {
      "cell_type": "markdown",
      "source": [
        "**10. Using the function enumerate() and a 'for' loop, determine the value of 'y' for a polynomial given the following:**\n",
        "```\n",
        "x = 6\n",
        "\n",
        "coefs = [3,4,1]\n",
        "\n",
        "y = coefs[0] * x ** 0 + coefs[1] * x ** 1 + coefs[2] * x ** 2\n",
        "\n",
        "...where coefs is a list containing coefficients for the:\n",
        "    constant term (first list element),\n",
        "    linear term (second list element), and \n",
        "    quadratic term (third list element).\n",
        "\n",
        "```"
      ],
      "metadata": {
        "id": "e5eQFSkYA629"
      }
    },
    {
      "cell_type": "code",
      "source": [
        "#write the code here#\n",
        "\n",
        "coefs = [3, 4, 1] \n",
        "  \n",
        "# Value of x \n",
        "x = 6 \n",
        "  \n",
        "# Initializing y to 0 \n",
        "y = 0 \n",
        "  \n",
        "for i, coef in enumerate(coefs): \n",
        "    y += coef * x ** i \n",
        "\n",
        "\n",
        "print(\"y is\", y)"
      ],
      "metadata": {
        "id": "b7T2hBo3CWy0",
        "colab": {
          "base_uri": "https://localhost:8080/"
        },
        "outputId": "a52d5e87-c851-4b98-b7c9-96bd8959a769"
      },
      "execution_count": null,
      "outputs": [
        {
          "output_type": "stream",
          "name": "stdout",
          "text": [
            "y = 63\n"
          ]
        }
      ]
    }
  ]
}